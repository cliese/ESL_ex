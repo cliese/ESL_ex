{
 "cells": [
  {
   "cell_type": "code",
   "execution_count": 9,
   "metadata": {},
   "outputs": [
    {
     "name": "stdout",
     "output_type": "stream",
     "text": [
      "     lcavol   lweight  age      lbph  svi       lcp  gleason  pgg45      lpsa\n",
      "0 -0.579818  2.769459   50 -1.386294    0 -1.386294        6      0 -0.430783\n",
      "1 -0.994252  3.319626   58 -1.386294    0 -1.386294        6      0 -0.162519\n",
      "2 -0.510826  2.691243   74 -1.386294    0 -1.386294        7     20 -0.162519\n",
      "3 -1.203973  3.282789   58 -1.386294    0 -1.386294        6      0 -0.162519\n",
      "4  0.751416  3.432373   62 -1.386294    0 -1.386294        6      0  0.371564\n"
     ]
    }
   ],
   "source": [
    "import pandas as pd\n",
    "import numpy as np\n",
    "import itertools\n",
    "\n",
    "from sklearn.linear_model import LinearRegression, RidgeCV, LassoCV, ElasticNetCV, LarsCV\n",
    "from sklearn.cross_decomposition import PLSRegression\n",
    "from sklearn.metrics import r2_score\n",
    "from sklearn.decomposition import PCA\n",
    "from sklearn.pipeline import Pipeline\n",
    "from sklearn.model_selection import GridSearchCV\n",
    "\n",
    "import warnings\n",
    "warnings.filterwarnings(\"ignore\")\n",
    "\n",
    "# Load data\n",
    "data = pd.read_csv(\"prostate.data.txt\", sep = \"\\t\")\n",
    "data = data.drop(columns=['Unnamed: 0', 'train'])\n",
    "\n",
    "print(data.head())\n",
    "\n",
    "# Create Data matrix X and response vector y\n",
    "\n",
    "y = np.array(data['lpsa'])\n",
    "X = np.array(data.drop(['lpsa'], axis=1))\n",
    "\n"
   ]
  },
  {
   "cell_type": "code",
   "execution_count": 10,
   "metadata": {},
   "outputs": [
    {
     "name": "stdout",
     "output_type": "stream",
     "text": [
      "Linear Regression MAE: 0.4926\n",
      "Linear Regression coefficients:\n"
     ]
    },
    {
     "data": {
      "text/plain": [
       "{'Intercept': 0.1816,\n",
       " 'lcavol': 0.5643,\n",
       " 'lweight': 0.622,\n",
       " 'age': -0.0212,\n",
       " 'lbph': 0.0967,\n",
       " 'svi': 0.7617,\n",
       " 'lcp': -0.1061,\n",
       " 'gleason': 0.0492,\n",
       " 'pgg45': 0.0045}"
      ]
     },
     "execution_count": 10,
     "metadata": {},
     "output_type": "execute_result"
    }
   ],
   "source": [
    "\n",
    "linreg_model = LinearRegression(normalize=True).fit(X, y)\n",
    "y_pred = linreg_model.predict(X)\n",
    "R2score = r2_score(y_pred, y)\n",
    "linreg_coefs = dict(\n",
    "    zip(['Intercept'] + data.columns.tolist()[:-1], \n",
    "        np.round(np.concatenate((linreg_model.intercept_, linreg_model.coef_), \n",
    "        axis=None), 4))\n",
    ")\n",
    "\n",
    "print('Linear Regression MAE: {}'.format(np.round(R2score, 4)))\n",
    "print('Linear Regression coefficients:')\n",
    "linreg_coefs\n",
    "\n",
    "#make a table"
   ]
  },
  {
   "cell_type": "code",
   "execution_count": null,
   "metadata": {},
   "outputs": [],
   "source": []
  },
  {
   "cell_type": "code",
   "execution_count": 33,
   "metadata": {},
   "outputs": [
    {
     "name": "stdout",
     "output_type": "stream",
     "text": [
      "         RSS       R^2                  features num_features\n",
      "0  58.914784  0.146198                       [0]            1\n",
      "0  51.742176  0.320750                    [0, 1]            2\n",
      "0  46.568436  0.427549                 [0, 1, 4]            3\n",
      "0  45.595472  0.446134              [0, 1, 3, 4]            4\n",
      "0  44.436682  0.467703           [0, 1, 2, 3, 4]            5\n",
      "0  43.775974  0.479735        [0, 1, 2, 3, 4, 7]            6\n",
      "0  43.107558  0.491717     [0, 1, 2, 3, 4, 5, 7]            7\n",
      "0  43.058419  0.492590  [0, 1, 2, 3, 4, 5, 6, 7]            8\n"
     ]
    }
   ],
   "source": [
    "results = pd.DataFrame(columns=['num_features', 'features', 'RSS','R^2'])\n",
    "\n",
    "# Loop over all possible numbers of features to be included\n",
    "for k in range(1, X.shape[1] + 1):\n",
    "    # Loop over all possible subsets of size k\n",
    "    for subset in itertools.combinations(range(X.shape[1]), k):\n",
    "        subset = list(subset)\n",
    "        linreg_model = LinearRegression(normalize=True).fit(X[:, subset], y)\n",
    "        y_pred = linreg_model.predict(X[:, subset])\n",
    "        \n",
    "        RSS = ((y - y_pred) ** 2).sum() \n",
    "        R2score = r2_score(y_pred, y)\n",
    "        results = results.append(pd.DataFrame([{'num_features': k,\n",
    "                                                'features': subset,\n",
    "                                                'RSS': RSS, 'R^2': R2score }]))\n",
    "\n",
    "        \n",
    "#Find best model for each subset size\n",
    "models = pd.DataFrame(columns=['num_features', 'features', 'RSS','R^2'])\n",
    "for k in range(1, X.shape[1] + 1):\n",
    "    temp = temp = results[results['num_features'] == k].sort_values('R^2', ascending=False)\n",
    "    models = models.append(temp.head(1))\n",
    "        \n",
    "print(models)        \n",
    "        \n"
   ]
  },
  {
   "cell_type": "code",
   "execution_count": 28,
   "metadata": {},
   "outputs": [],
   "source": []
  },
  {
   "cell_type": "code",
   "execution_count": null,
   "metadata": {},
   "outputs": [],
   "source": [
    "\n"
   ]
  },
  {
   "cell_type": "code",
   "execution_count": null,
   "metadata": {},
   "outputs": [],
   "source": []
  }
 ],
 "metadata": {
  "kernelspec": {
   "display_name": "Python 3",
   "language": "python",
   "name": "python3"
  },
  "language_info": {
   "codemirror_mode": {
    "name": "ipython",
    "version": 3
   },
   "file_extension": ".py",
   "mimetype": "text/x-python",
   "name": "python",
   "nbconvert_exporter": "python",
   "pygments_lexer": "ipython3",
   "version": "3.6.7"
  }
 },
 "nbformat": 4,
 "nbformat_minor": 2
}
