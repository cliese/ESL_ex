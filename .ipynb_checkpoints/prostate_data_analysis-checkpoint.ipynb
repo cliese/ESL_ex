{
 "cells": [
  {
   "cell_type": "code",
   "execution_count": 13,
   "metadata": {},
   "outputs": [
    {
     "name": "stdout",
     "output_type": "stream",
     "text": [
      "Index(['Unnamed: 0', 'lcavol', 'lweight', 'age', 'lbph', 'svi', 'lcp',\n",
      "       'gleason', 'pgg45', 'lpsa', 'train'],\n",
      "      dtype='object')\n",
      "     lcavol   lweight  age      lbph  svi       lcp  gleason  pgg45      lpsa  \\\n",
      "0 -0.579818  2.769459   50 -1.386294    0 -1.386294        6      0 -0.430783   \n",
      "1 -0.994252  3.319626   58 -1.386294    0 -1.386294        6      0 -0.162519   \n",
      "2 -0.510826  2.691243   74 -1.386294    0 -1.386294        7     20 -0.162519   \n",
      "3 -1.203973  3.282789   58 -1.386294    0 -1.386294        6      0 -0.162519   \n",
      "4  0.751416  3.432373   62 -1.386294    0 -1.386294        6      0  0.371564   \n",
      "\n",
      "  train  \n",
      "0     T  \n",
      "1     T  \n",
      "2     T  \n",
      "3     T  \n",
      "4     T  \n"
     ]
    }
   ],
   "source": [
    "import pandas as pd\n",
    "import numpy as np\n",
    "import itertools\n",
    "\n",
    "from sklearn.linear_model import LinearRegression, RidgeCV, LassoCV, ElasticNetCV, LarsCV\n",
    "from sklearn.cross_decomposition import PLSRegression\n",
    "from sklearn.decomposition import PCA\n",
    "from sklearn.pipeline import Pipeline\n",
    "from sklearn.model_selection import GridSearchCV\n",
    "\n",
    "import warnings\n",
    "warnings.filterwarnings(\"ignore\")\n",
    "\n",
    "# Load data\n",
    "data = pd.read_csv(\"prostate.data.txt\", sep = \"\\t\")\n",
    "print(data.columns)\n",
    "data = data.drop(columns='Unnamed: 0')\n",
    "\n",
    "print(data.head())\n",
    "\n",
    "# Train-test split\n",
    "y_train = np.array(data[data.train == \"T\"]['lpsa'])\n",
    "y_test = np.array(data[data.train == \"F\"]['lpsa'])\n",
    "X_train = np.array(data[data.train == \"T\"].drop(['lpsa', 'train'], axis=1))\n",
    "X_test = np.array(data[data.train == \"F\"].drop(['lpsa', 'train'], axis=1))\n"
   ]
  },
  {
   "cell_type": "code",
   "execution_count": 18,
   "metadata": {},
   "outputs": [
    {
     "name": "stdout",
     "output_type": "stream",
     "text": [
      "Linear Regression MAE: 0.5234\n",
      "Linear Regression coefficients:\n"
     ]
    },
    {
     "data": {
      "text/plain": [
       "{'Intercept': 0.4292,\n",
       " 'lcavol': 0.5765,\n",
       " 'lweight': 0.614,\n",
       " 'age': -0.019,\n",
       " 'lbph': 0.1448,\n",
       " 'svi': 0.7372,\n",
       " 'lcp': -0.2063,\n",
       " 'gleason': -0.0295,\n",
       " 'pgg45': 0.0095}"
      ]
     },
     "execution_count": 18,
     "metadata": {},
     "output_type": "execute_result"
    }
   ],
   "source": [
    "\n",
    "linreg_model = LinearRegression(normalize=True).fit(X_train, y_train)\n",
    "linreg_prediction = linreg_model.predict(X_test)\n",
    "linreg_mae = np.mean(np.abs(y_test - linreg_prediction))\n",
    "linreg_coefs = dict(\n",
    "    zip(['Intercept'] + data.columns.tolist()[:-1], \n",
    "        np.round(np.concatenate((linreg_model.intercept_, linreg_model.coef_), \n",
    "        axis=None), 4))\n",
    ")\n",
    "\n",
    "print('Linear Regression MAE: {}'.format(np.round(linreg_mae, 4)))\n",
    "print('Linear Regression coefficients:')\n",
    "linreg_coefs\n",
    "\n",
    "#make a table"
   ]
  },
  {
   "cell_type": "code",
   "execution_count": null,
   "metadata": {},
   "outputs": [],
   "source": []
  },
  {
   "cell_type": "code",
   "execution_count": 29,
   "metadata": {},
   "outputs": [
    {
     "name": "stdout",
     "output_type": "stream",
     "text": [
      "Index(['RSS', 'features', 'num_features'], dtype='object')\n",
      "         RSS                  features num_features\n",
      "0  29.426384  [0, 1, 2, 3, 4, 5, 6, 7]            8\n",
      "1  29.437300     [0, 1, 2, 3, 4, 5, 7]            7\n",
      "2  30.414990     [0, 1, 3, 4, 5, 6, 7]            7\n",
      "3  30.539778        [0, 1, 3, 4, 5, 7]            6\n",
      "4  30.958630     [0, 1, 2, 3, 4, 5, 6]            7\n",
      "Best Subset Regression RSS: 29.426\n",
      "Best Subset Regression coefficients:\n"
     ]
    },
    {
     "data": {
      "text/plain": [
       "{'Intercept': 0.429,\n",
       " 'lcavol': 0.577,\n",
       " 'lweight': 0.614,\n",
       " 'age': -0.019,\n",
       " 'lbph': 0.145,\n",
       " 'svi': 0.737,\n",
       " 'lcp': -0.206,\n",
       " 'gleason': -0.03,\n",
       " 'pgg45': 0.009}"
      ]
     },
     "execution_count": 29,
     "metadata": {},
     "output_type": "execute_result"
    }
   ],
   "source": [
    "results = pd.DataFrame(columns=['num_features', 'features', 'RSS'])\n",
    "\n",
    "# Loop over all possible numbers of features to be included\n",
    "for k in range(1, X_train.shape[1] + 1):\n",
    "    # Loop over all possible subsets of size k\n",
    "    for subset in itertools.combinations(range(X_train.shape[1]), k):\n",
    "        subset = list(subset)\n",
    "        linreg_model = LinearRegression(normalize=True).fit(X_train[:, subset], y_train)\n",
    "        y_pred = linreg_model.predict(X_train[:, subset])\n",
    "        #linreg_mae = np.mean(np.abs(y_test - linreg_prediction))\n",
    "        RSS = ((y_train - y_pred) ** 2).sum() \n",
    "        results = results.append(pd.DataFrame([{'num_features': k,\n",
    "                                                'features': subset,\n",
    "                                                'RSS': RSS}]))\n",
    "\n",
    "# Inspect best combinations\n",
    "results = results.sort_values('RSS').reset_index()\n",
    "results = results.drop(columns='index')\n",
    "print(results.columns)\n",
    "print(results.head())\n",
    "\n",
    "# Fit best model\n",
    "best_subset_model = LinearRegression(normalize=True).fit(X_train[:, results['features'][0]], y_train)\n",
    "best_subset_coefs = dict(\n",
    "    zip(['Intercept'] + data.columns.tolist()[:-1], \n",
    "        np.round(np.concatenate((best_subset_model.intercept_, best_subset_model.coef_), axis=None), 3))\n",
    ")\n",
    "\n",
    "print('Best Subset Regression RSS: {}'.format(np.round(results['RSS'][0], 3)))\n",
    "print('Best Subset Regression coefficients:')\n",
    "best_subset_coefs\n"
   ]
  },
  {
   "cell_type": "code",
   "execution_count": null,
   "metadata": {},
   "outputs": [],
   "source": []
  },
  {
   "cell_type": "code",
   "execution_count": null,
   "metadata": {},
   "outputs": [],
   "source": []
  }
 ],
 "metadata": {
  "kernelspec": {
   "display_name": "Python 3",
   "language": "python",
   "name": "python3"
  }
 },
 "nbformat": 4,
 "nbformat_minor": 2
}
