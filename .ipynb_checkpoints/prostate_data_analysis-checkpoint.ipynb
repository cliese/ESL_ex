{
 "cells": [
  {
   "cell_type": "code",
   "execution_count": 29,
   "metadata": {},
   "outputs": [
    {
     "name": "stdout",
     "output_type": "stream",
     "text": [
      "     lcavol   lweight  age      lbph  svi       lcp  gleason  pgg45      lpsa\n",
      "0 -0.579818  2.769459   50 -1.386294    0 -1.386294        6      0 -0.430783\n",
      "1 -0.994252  3.319626   58 -1.386294    0 -1.386294        6      0 -0.162519\n",
      "2 -0.510826  2.691243   74 -1.386294    0 -1.386294        7     20 -0.162519\n",
      "3 -1.203973  3.282789   58 -1.386294    0 -1.386294        6      0 -0.162519\n",
      "4  0.751416  3.432373   62 -1.386294    0 -1.386294        6      0  0.371564\n"
     ]
    }
   ],
   "source": [
    "%matplotlib inline \n",
    "import pandas as pd\n",
    "import numpy as np\n",
    "import itertools\n",
    "import matplotlib.pyplot as plt\n",
    "import seaborn as sns\n",
    "\n",
    "from sklearn.linear_model import LinearRegression, RidgeCV, LassoCV, ElasticNetCV, LarsCV\n",
    "from sklearn.cross_decomposition import PLSRegression\n",
    "from sklearn.metrics import r2_score\n",
    "from sklearn.decomposition import PCA\n",
    "from sklearn.pipeline import Pipeline\n",
    "from sklearn.model_selection import GridSearchCV\n",
    "\n",
    "import warnings\n",
    "warnings.filterwarnings(\"ignore\")\n",
    "\n",
    "# Load data\n",
    "data = pd.read_csv(\"prostate.data.txt\", sep = \"\\t\")\n",
    "data = data.drop(columns=['Unnamed: 0', 'train'])\n",
    "\n",
    "print(data.head())\n",
    "\n",
    "# Create Data matrix X and response vector y\n",
    "\n",
    "y = np.array(data['lpsa'])\n",
    "X = np.array(data.drop(['lpsa'], axis=1))\n",
    "\n"
   ]
  },
  {
   "cell_type": "code",
   "execution_count": 3,
   "metadata": {},
   "outputs": [
    {
     "name": "stdout",
     "output_type": "stream",
     "text": [
      "Linear Regression R^2: 0.4926\n",
      "Linear Regression coefficients:\n"
     ]
    },
    {
     "data": {
      "text/plain": [
       "{'Intercept': 0.1816,\n",
       " 'lcavol': 0.5643,\n",
       " 'lweight': 0.622,\n",
       " 'age': -0.0212,\n",
       " 'lbph': 0.0967,\n",
       " 'svi': 0.7617,\n",
       " 'lcp': -0.1061,\n",
       " 'gleason': 0.0492,\n",
       " 'pgg45': 0.0045}"
      ]
     },
     "execution_count": 3,
     "metadata": {},
     "output_type": "execute_result"
    }
   ],
   "source": [
    "\n",
    "linreg_model = LinearRegression(normalize=True).fit(X, y)\n",
    "y_pred = linreg_model.predict(X)\n",
    "R2score = r2_score(y_pred, y)\n",
    "linreg_coefs = dict(\n",
    "    zip(['Intercept'] + data.columns.tolist()[:-1], \n",
    "        np.round(np.concatenate((linreg_model.intercept_, linreg_model.coef_), \n",
    "        axis=None), 4))\n",
    ")\n",
    "\n",
    "print('Linear Regression R^2: {}'.format(np.round(R2score, 4)))\n",
    "print('Linear Regression coefficients:')\n",
    "linreg_coefs\n",
    "\n",
    "#make a table"
   ]
  },
  {
   "cell_type": "code",
   "execution_count": 39,
   "metadata": {},
   "outputs": [
    {
     "data": {
      "image/png": "[encoded data removed]",
      "text/plain": [
       "<Figure size 1080x360 with 2 Axes>"
      ]
     },
     "metadata": {
      "needs_background": "light"
     },
     "output_type": "display_data"
    }
   ],
   "source": [
    "#check plausubility of the linear model \n",
    "\n",
    "fig, axs = plt.subplots(ncols=2, figsize=(15,5))\n",
    "sns.regplot(x=y_pred, y=y-y_pred, fit_reg=False, ax=axs[0])\n",
    "sns.distplot(y-y_pred, ax=axs[1])\n",
    "plt.show()"
   ]
  },
  {
   "cell_type": "code",
   "execution_count": null,
   "metadata": {},
   "outputs": [],
   "source": []
  },
  {
   "cell_type": "code",
   "execution_count": 49,
   "metadata": {},
   "outputs": [
    {
     "name": "stdout",
     "output_type": "stream",
     "text": [
      "          RSS       R^2                  features num_features\n",
      "0  127.917659         0                        []            0\n",
      "1   58.914784  0.146198                       [0]            1\n",
      "2   51.742176   0.32075                    [0, 1]            2\n",
      "3   46.568436  0.427549                 [0, 1, 4]            3\n",
      "4   45.595472  0.446134              [0, 1, 3, 4]            4\n",
      "5   44.436682  0.467703           [0, 1, 2, 3, 4]            5\n",
      "6   43.775974  0.479735        [0, 1, 2, 3, 4, 7]            6\n",
      "7   43.107558  0.491717     [0, 1, 2, 3, 4, 5, 7]            7\n",
      "8   43.058419   0.49259  [0, 1, 2, 3, 4, 5, 6, 7]            8\n"
     ]
    }
   ],
   "source": [
    "results = pd.DataFrame(columns=['num_features', 'features', 'RSS','R^2', 'fitted_model'])\n",
    "\n",
    "\n",
    "\n",
    "\n",
    "\n",
    "# Loop over all possible numbers of features to be included\n",
    "for k in range(1, X.shape[1] + 1):\n",
    "    # Loop over all possible subsets of size k\n",
    "    for subset in itertools.combinations(range(X.shape[1]), k):\n",
    "        subset = list(subset)\n",
    "        linreg_model = LinearRegression(normalize=True).fit(X[:, subset], y)\n",
    "        y_pred = linreg_model.predict(X[:, subset])\n",
    "        \n",
    "        RSS = ((y - y_pred) ** 2).sum() \n",
    "        R2score = r2_score(y_pred, y)\n",
    "        results = results.append(pd.DataFrame([{'num_features': k,\n",
    "                                                'features': subset,\n",
    "                                                'RSS': RSS, 'R^2': R2score, 'fitted_model': linreg_model }]))\n",
    "\n",
    "        \n",
    "#Find best model for each subset size\n",
    "models = pd.DataFrame(columns=['num_features', 'features', 'RSS','R^2', 'fitted_model'])\n",
    "\n",
    "# add base model\n",
    "y_mean = y.mean()\n",
    "base_error = np.full(y.shape, y_mean)\n",
    "TSS = ((y - base_error) ** 2).sum() \n",
    "\n",
    "models = models.append(pd.DataFrame([{'num_features': 0,\n",
    "                                                'features': [],\n",
    "                                                'RSS': TSS, 'R^2': 0 , 'fitted_model': 'zero model'}]))\n",
    "\n",
    "\n",
    "\n",
    "\n",
    "for k in range(1, X.shape[1] + 1):\n",
    "    temp  = results[results['num_features'] == k].sort_values('R^2', ascending=False)\n",
    "    models = models.append(temp.head(1))\n",
    " \n",
    "\n",
    "\n",
    "models = models.reset_index()\n",
    "\n",
    "display_models = models.drop(columns=['fitted_model', 'index'])\n",
    "print(display_models)        \n",
    "        \n"
   ]
  },
  {
   "cell_type": "code",
   "execution_count": 51,
   "metadata": {},
   "outputs": [
    {
     "name": "stdout",
     "output_type": "stream",
     "text": [
      "Linear Regression R^2: 0.4926\n",
      "Linear Regression coefficients:\n"
     ]
    },
    {
     "data": {
      "text/plain": [
       "{'Intercept': 0.1816,\n",
       " 'lcavol': 0.5643,\n",
       " 'lweight': 0.622,\n",
       " 'age': -0.0212,\n",
       " 'lbph': 0.0967,\n",
       " 'svi': 0.7617,\n",
       " 'lcp': -0.1061,\n",
       " 'gleason': 0.0492,\n",
       " 'pgg45': 0.0045}"
      ]
     },
     "execution_count": 51,
     "metadata": {},
     "output_type": "execute_result"
    }
   ],
   "source": [
    "\n"
   ]
  },
  {
   "cell_type": "code",
   "execution_count": 41,
   "metadata": {},
   "outputs": [
    {
     "data": {
      "text/plain": [
       "Text(0, 0.5, 'R^2')"
      ]
     },
     "execution_count": 41,
     "metadata": {},
     "output_type": "execute_result"
    },
    {
     "data": {
      "image/png": "[encoded data removed]",
      "text/plain": [
       "<Figure size 1080x720 with 2 Axes>"
      ]
     },
     "metadata": {
      "needs_background": "light"
     },
     "output_type": "display_data"
    }
   ],
   "source": [
    "fig = plt.figure(figsize=(15,10))\n",
    "axes1 = fig.add_subplot(2,2,1)\n",
    "axes2 = fig.add_subplot(2,2,2)\n",
    "\n",
    "axes1.plot(models['num_features'], models['RSS'])\n",
    "axes2.plot(models['num_features'], models['R^2'])\n",
    "\n",
    "axes1.set_xlabel('num_features')\n",
    "axes1.set_ylabel('RSS')\n",
    "\n",
    "axes2.set_xlabel('num_features')\n",
    "axes2.set_ylabel('R^2')\n",
    "\n",
    "\n",
    "\n"
   ]
  },
  {
   "cell_type": "code",
   "execution_count": 74,
   "metadata": {},
   "outputs": [],
   "source": [
    "#select best subset for several criteria like AIC or cross validation\n",
    "# calculate estimate of variance of the error terms\n",
    "\n",
    "sigma_sq = 1/(y.shape[0]-X.shape[1]-1) * models.loc[ models.shape[0]-1 , 'RSS']\n",
    "C_p = []\n",
    "BIC = []\n",
    "ADJR2 = []\n",
    "for k in range(models.shape[0]):\n",
    "    c_p = 1/y.shape[0] * (models.loc[k, 'RSS'] + 2 * models.loc[k, 'num_features'] * sigma_sq )\n",
    "    C_p.append(c_p)\n",
    "    \n",
    "    bic =  1/(y.shape[0]*sigma_sq)  * (models.loc[k, 'RSS'] + np.log(y.shape[0]) * models.loc[k, 'num_features'] * sigma_sq )\n",
    "    BIC.append(bic)\n",
    "    \n",
    "    adj = 1- (models.loc[k, 'RSS']/(y.shape[0]-models.loc[k, 'num_features']-1)) / (TSS/(y.shape[0]-1) )\n",
    "    ADJR2.append(adj)\n",
    "    \n",
    "models['C_p'] = C_p\n",
    "models['BIC'] = BIC\n",
    "models['adj_R^2'] = ADJR2\n"
   ]
  },
  {
   "cell_type": "code",
   "execution_count": 88,
   "metadata": {},
   "outputs": [
    {
     "data": {
      "text/plain": [
       "<matplotlib.axes._subplots.AxesSubplot at 0x1a1e182b38>"
      ]
     },
     "execution_count": 88,
     "metadata": {},
     "output_type": "execute_result"
    },
    {
     "data": {
      "image/png": "[encoded data removed]",
      "text/plain": [
       "<Figure size 1080x288 with 3 Axes>"
      ]
     },
     "metadata": {
      "needs_background": "light"
     },
     "output_type": "display_data"
    }
   ],
   "source": [
    "fig, axs = plt.subplots(ncols=3, figsize=(15,4))\n",
    "sns.lineplot(x='num_features', y='BIC', data=models, ax=axs[0])\n",
    "sns.lineplot(x='num_features', y='C_p', data=models, ax=axs[1])\n",
    "sns.lineplot(x='num_features', y='adj_R^2', data=models, ax=axs[2])"
   ]
  },
  {
   "cell_type": "code",
   "execution_count": 79,
   "metadata": {},
   "outputs": [],
   "source": [
    "def select_best(df, criterion):\n",
    "    if criterion == 'adj_R^2':\n",
    "        best = df.sort_values(criterion, ascending=False)\n",
    "    else : \n",
    "        best = df.sort_values(criterion, ascending=True)\n",
    "    \n",
    "    return best.head(1)"
   ]
  },
  {
   "cell_type": "code",
   "execution_count": 82,
   "metadata": {},
   "outputs": [
    {
     "data": {
      "text/html": [
       "<div>\n",
       "<style scoped>\n",
       "    .dataframe tbody tr th:only-of-type {\n",
       "        vertical-align: middle;\n",
       "    }\n",
       "\n",
       "    .dataframe tbody tr th {\n",
       "        vertical-align: top;\n",
       "    }\n",
       "\n",
       "    .dataframe thead th {\n",
       "        text-align: right;\n",
       "    }\n",
       "</style>\n",
       "<table border=\"1\" class=\"dataframe\">\n",
       "  <thead>\n",
       "    <tr style=\"text-align: right;\">\n",
       "      <th></th>\n",
       "      <th>index</th>\n",
       "      <th>RSS</th>\n",
       "      <th>R^2</th>\n",
       "      <th>features</th>\n",
       "      <th>fitted_model</th>\n",
       "      <th>num_features</th>\n",
       "      <th>C_p</th>\n",
       "      <th>BIC</th>\n",
       "      <th>adj_R^2</th>\n",
       "    </tr>\n",
       "  </thead>\n",
       "  <tbody>\n",
       "    <tr>\n",
       "      <th>3</th>\n",
       "      <td>0</td>\n",
       "      <td>46.568436</td>\n",
       "      <td>0.427549</td>\n",
       "      <td>[0, 1, 4]</td>\n",
       "      <td>LinearRegression(copy_X=True, fit_intercept=Tr...</td>\n",
       "      <td>3</td>\n",
       "      <td>0.510353</td>\n",
       "      <td>1.122656</td>\n",
       "      <td>0.624206</td>\n",
       "    </tr>\n",
       "  </tbody>\n",
       "</table>\n",
       "</div>"
      ],
      "text/plain": [
       "   index        RSS       R^2   features  \\\n",
       "3      0  46.568436  0.427549  [0, 1, 4]   \n",
       "\n",
       "                                        fitted_model num_features       C_p  \\\n",
       "3  LinearRegression(copy_X=True, fit_intercept=Tr...            3  0.510353   \n",
       "\n",
       "        BIC   adj_R^2  \n",
       "3  1.122656  0.624206  "
      ]
     },
     "execution_count": 82,
     "metadata": {},
     "output_type": "execute_result"
    }
   ],
   "source": [
    "select_best(models, 'BIC')\n",
    "\n",
    "\n",
    "# find best models and give their output in a table. do inference"
   ]
  },
  {
   "cell_type": "code",
   "execution_count": 78,
   "metadata": {},
   "outputs": [
    {
     "data": {
      "text/html": [
       "<div>\n",
       "<style scoped>\n",
       "    .dataframe tbody tr th:only-of-type {\n",
       "        vertical-align: middle;\n",
       "    }\n",
       "\n",
       "    .dataframe tbody tr th {\n",
       "        vertical-align: top;\n",
       "    }\n",
       "\n",
       "    .dataframe thead th {\n",
       "        text-align: right;\n",
       "    }\n",
       "</style>\n",
       "<table border=\"1\" class=\"dataframe\">\n",
       "  <thead>\n",
       "    <tr style=\"text-align: right;\">\n",
       "      <th></th>\n",
       "      <th>index</th>\n",
       "      <th>RSS</th>\n",
       "      <th>R^2</th>\n",
       "      <th>features</th>\n",
       "      <th>fitted_model</th>\n",
       "      <th>num_features</th>\n",
       "      <th>C_p</th>\n",
       "      <th>BIC</th>\n",
       "      <th>adj_R^2</th>\n",
       "    </tr>\n",
       "  </thead>\n",
       "  <tbody>\n",
       "    <tr>\n",
       "      <th>5</th>\n",
       "      <td>0</td>\n",
       "      <td>44.436682</td>\n",
       "      <td>0.467703</td>\n",
       "      <td>[0, 1, 2, 3, 4]</td>\n",
       "      <td>LinearRegression(copy_X=True, fit_intercept=Tr...</td>\n",
       "      <td>5</td>\n",
       "      <td>0.508553</td>\n",
       "      <td>1.172066</td>\n",
       "      <td>0.633528</td>\n",
       "    </tr>\n",
       "    <tr>\n",
       "      <th>3</th>\n",
       "      <td>0</td>\n",
       "      <td>46.568436</td>\n",
       "      <td>0.427549</td>\n",
       "      <td>[0, 1, 4]</td>\n",
       "      <td>LinearRegression(copy_X=True, fit_intercept=Tr...</td>\n",
       "      <td>3</td>\n",
       "      <td>0.510353</td>\n",
       "      <td>1.122656</td>\n",
       "      <td>0.624206</td>\n",
       "    </tr>\n",
       "    <tr>\n",
       "      <th>4</th>\n",
       "      <td>0</td>\n",
       "      <td>45.595472</td>\n",
       "      <td>0.446134</td>\n",
       "      <td>[0, 1, 3, 4]</td>\n",
       "      <td>LinearRegression(copy_X=True, fit_intercept=Tr...</td>\n",
       "      <td>4</td>\n",
       "      <td>0.510411</td>\n",
       "      <td>1.149319</td>\n",
       "      <td>0.628059</td>\n",
       "    </tr>\n",
       "    <tr>\n",
       "      <th>6</th>\n",
       "      <td>0</td>\n",
       "      <td>43.775974</td>\n",
       "      <td>0.479735</td>\n",
       "      <td>[0, 1, 2, 3, 4, 7]</td>\n",
       "      <td>LinearRegression(copy_X=True, fit_intercept=Tr...</td>\n",
       "      <td>6</td>\n",
       "      <td>0.511831</td>\n",
       "      <td>1.205307</td>\n",
       "      <td>0.634965</td>\n",
       "    </tr>\n",
       "    <tr>\n",
       "      <th>7</th>\n",
       "      <td>0</td>\n",
       "      <td>43.107558</td>\n",
       "      <td>0.491717</td>\n",
       "      <td>[0, 1, 2, 3, 4, 5, 7]</td>\n",
       "      <td>LinearRegression(copy_X=True, fit_intercept=Tr...</td>\n",
       "      <td>7</td>\n",
       "      <td>0.515028</td>\n",
       "      <td>1.238386</td>\n",
       "      <td>0.636500</td>\n",
       "    </tr>\n",
       "    <tr>\n",
       "      <th>8</th>\n",
       "      <td>0</td>\n",
       "      <td>43.058419</td>\n",
       "      <td>0.49259</td>\n",
       "      <td>[0, 1, 2, 3, 4, 5, 6, 7]</td>\n",
       "      <td>LinearRegression(copy_X=True, fit_intercept=Tr...</td>\n",
       "      <td>8</td>\n",
       "      <td>0.524611</td>\n",
       "      <td>1.284512</td>\n",
       "      <td>0.632789</td>\n",
       "    </tr>\n",
       "    <tr>\n",
       "      <th>2</th>\n",
       "      <td>0</td>\n",
       "      <td>51.742176</td>\n",
       "      <td>0.32075</td>\n",
       "      <td>[0, 1]</td>\n",
       "      <td>LinearRegression(copy_X=True, fit_intercept=Tr...</td>\n",
       "      <td>2</td>\n",
       "      <td>0.553602</td>\n",
       "      <td>1.184502</td>\n",
       "      <td>0.586898</td>\n",
       "    </tr>\n",
       "    <tr>\n",
       "      <th>1</th>\n",
       "      <td>0</td>\n",
       "      <td>58.914784</td>\n",
       "      <td>0.146198</td>\n",
       "      <td>[0]</td>\n",
       "      <td>LinearRegression(copy_X=True, fit_intercept=Tr...</td>\n",
       "      <td>1</td>\n",
       "      <td>0.617458</td>\n",
       "      <td>1.288463</td>\n",
       "      <td>0.534584</td>\n",
       "    </tr>\n",
       "    <tr>\n",
       "      <th>0</th>\n",
       "      <td>0</td>\n",
       "      <td>127.917659</td>\n",
       "      <td>0</td>\n",
       "      <td>[]</td>\n",
       "      <td>zero model</td>\n",
       "      <td>0</td>\n",
       "      <td>1.318739</td>\n",
       "      <td>2.695153</td>\n",
       "      <td>0.000000</td>\n",
       "    </tr>\n",
       "  </tbody>\n",
       "</table>\n",
       "</div>"
      ],
      "text/plain": [
       "   index         RSS       R^2                  features  \\\n",
       "5      0   44.436682  0.467703           [0, 1, 2, 3, 4]   \n",
       "3      0   46.568436  0.427549                 [0, 1, 4]   \n",
       "4      0   45.595472  0.446134              [0, 1, 3, 4]   \n",
       "6      0   43.775974  0.479735        [0, 1, 2, 3, 4, 7]   \n",
       "7      0   43.107558  0.491717     [0, 1, 2, 3, 4, 5, 7]   \n",
       "8      0   43.058419   0.49259  [0, 1, 2, 3, 4, 5, 6, 7]   \n",
       "2      0   51.742176   0.32075                    [0, 1]   \n",
       "1      0   58.914784  0.146198                       [0]   \n",
       "0      0  127.917659         0                        []   \n",
       "\n",
       "                                        fitted_model num_features       C_p  \\\n",
       "5  LinearRegression(copy_X=True, fit_intercept=Tr...            5  0.508553   \n",
       "3  LinearRegression(copy_X=True, fit_intercept=Tr...            3  0.510353   \n",
       "4  LinearRegression(copy_X=True, fit_intercept=Tr...            4  0.510411   \n",
       "6  LinearRegression(copy_X=True, fit_intercept=Tr...            6  0.511831   \n",
       "7  LinearRegression(copy_X=True, fit_intercept=Tr...            7  0.515028   \n",
       "8  LinearRegression(copy_X=True, fit_intercept=Tr...            8  0.524611   \n",
       "2  LinearRegression(copy_X=True, fit_intercept=Tr...            2  0.553602   \n",
       "1  LinearRegression(copy_X=True, fit_intercept=Tr...            1  0.617458   \n",
       "0                                         zero model            0  1.318739   \n",
       "\n",
       "        BIC   adj_R^2  \n",
       "5  1.172066  0.633528  \n",
       "3  1.122656  0.624206  \n",
       "4  1.149319  0.628059  \n",
       "6  1.205307  0.634965  \n",
       "7  1.238386  0.636500  \n",
       "8  1.284512  0.632789  \n",
       "2  1.184502  0.586898  \n",
       "1  1.288463  0.534584  \n",
       "0  2.695153  0.000000  "
      ]
     },
     "execution_count": 78,
     "metadata": {},
     "output_type": "execute_result"
    }
   ],
   "source": [
    "# forward selection\n",
    "\n",
    "    "
   ]
  },
  {
   "cell_type": "code",
   "execution_count": null,
   "metadata": {},
   "outputs": [],
   "source": [
    "# plots . significance, base error rate"
   ]
  }
 ],
 "metadata": {
  "kernelspec": {
   "display_name": "Python 3",
   "language": "python",
   "name": "python3"
  }
 },
 "nbformat": 4,
 "nbformat_minor": 2
}
